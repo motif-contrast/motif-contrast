{
 "cells": [
  {
   "cell_type": "code",
   "execution_count": 8,
   "metadata": {},
   "outputs": [],
   "source": [
    "import networkx as nx\n",
    "import numpy as np\n",
    "import matplotlib.pyplot as plt\n",
    "from fibheap import FibonacciHeap as FibHeap\n",
    "from peel_by_motif import *\n",
    "import random, pickle\n",
    "from datetime import datetime\n",
    "import pandas as pd\n",
    "from compare_algs.greedy_algorithms import *\n",
    "import itertools\n",
    "# import graph_tool.all as gt"
   ]
  },
  {
   "cell_type": "code",
   "execution_count": 9,
   "metadata": {},
   "outputs": [],
   "source": [
    "plt.rcParams.update({'font.size': 14})"
   ]
  },
  {
   "cell_type": "markdown",
   "metadata": {},
   "source": [
    "# read data"
   ]
  },
  {
   "cell_type": "code",
   "execution_count": 3,
   "metadata": {},
   "outputs": [],
   "source": [
    "click_df = pd.read_csv('data/click-fraud-data/clicks_08mar12.csv')\n",
    "pub_df = pd.read_csv('data/click-fraud-data/publishers_08mar12.csv')"
   ]
  },
  {
   "cell_type": "code",
   "execution_count": 4,
   "metadata": {},
   "outputs": [
    {
     "data": {
      "text/html": [
       "<div>\n",
       "<style scoped>\n",
       "    .dataframe tbody tr th:only-of-type {\n",
       "        vertical-align: middle;\n",
       "    }\n",
       "\n",
       "    .dataframe tbody tr th {\n",
       "        vertical-align: top;\n",
       "    }\n",
       "\n",
       "    .dataframe thead th {\n",
       "        text-align: right;\n",
       "    }\n",
       "</style>\n",
       "<table border=\"1\" class=\"dataframe\">\n",
       "  <thead>\n",
       "    <tr style=\"text-align: right;\">\n",
       "      <th></th>\n",
       "      <th>id</th>\n",
       "      <th>iplong</th>\n",
       "      <th>agent</th>\n",
       "      <th>partnerid</th>\n",
       "      <th>cid</th>\n",
       "      <th>cntr</th>\n",
       "      <th>timeat</th>\n",
       "      <th>category</th>\n",
       "      <th>referer</th>\n",
       "    </tr>\n",
       "  </thead>\n",
       "  <tbody>\n",
       "    <tr>\n",
       "      <th>0</th>\n",
       "      <td>9794476</td>\n",
       "      <td>1071324855</td>\n",
       "      <td>SonyEricsson_K70</td>\n",
       "      <td>dv3va</td>\n",
       "      <td>dsfag</td>\n",
       "      <td>us</td>\n",
       "      <td>2012-03-08 00:00:00.0</td>\n",
       "      <td>ad</td>\n",
       "      <td>NaN</td>\n",
       "    </tr>\n",
       "    <tr>\n",
       "      <th>1</th>\n",
       "      <td>9794474</td>\n",
       "      <td>1000461055</td>\n",
       "      <td>Samsung_S5233</td>\n",
       "      <td>dv4gs</td>\n",
       "      <td>dswae</td>\n",
       "      <td>in</td>\n",
       "      <td>2012-03-08 00:00:00.0</td>\n",
       "      <td>mg</td>\n",
       "      <td>riflql2a0yv8xoa9sq0recx4x</td>\n",
       "    </tr>\n",
       "    <tr>\n",
       "      <th>2</th>\n",
       "      <td>9794471</td>\n",
       "      <td>3386484265</td>\n",
       "      <td>Nokia_C3-00</td>\n",
       "      <td>duq7h</td>\n",
       "      <td>dr75h</td>\n",
       "      <td>py</td>\n",
       "      <td>2012-03-08 00:00:00.0</td>\n",
       "      <td>co</td>\n",
       "      <td>NaN</td>\n",
       "    </tr>\n",
       "    <tr>\n",
       "      <th>3</th>\n",
       "      <td>9794468</td>\n",
       "      <td>1907981997</td>\n",
       "      <td>Nokia_5233</td>\n",
       "      <td>dv6i3</td>\n",
       "      <td>ds3xq</td>\n",
       "      <td>vn</td>\n",
       "      <td>2012-03-08 00:00:00.0</td>\n",
       "      <td>es</td>\n",
       "      <td>gp53lqr9njqd6z2ap5d364sip</td>\n",
       "    </tr>\n",
       "    <tr>\n",
       "      <th>4</th>\n",
       "      <td>9794467</td>\n",
       "      <td>1791989091</td>\n",
       "      <td>MAUI</td>\n",
       "      <td>duxto</td>\n",
       "      <td>dvb8g</td>\n",
       "      <td>in</td>\n",
       "      <td>2012-03-08 00:00:00.0</td>\n",
       "      <td>ad</td>\n",
       "      <td>NaN</td>\n",
       "    </tr>\n",
       "  </tbody>\n",
       "</table>\n",
       "</div>"
      ],
      "text/plain": [
       "        id      iplong             agent partnerid    cid cntr  \\\n",
       "0  9794476  1071324855  SonyEricsson_K70     dv3va  dsfag   us   \n",
       "1  9794474  1000461055     Samsung_S5233     dv4gs  dswae   in   \n",
       "2  9794471  3386484265       Nokia_C3-00     duq7h  dr75h   py   \n",
       "3  9794468  1907981997        Nokia_5233     dv6i3  ds3xq   vn   \n",
       "4  9794467  1791989091              MAUI     duxto  dvb8g   in   \n",
       "\n",
       "                  timeat category                    referer  \n",
       "0  2012-03-08 00:00:00.0       ad                        NaN  \n",
       "1  2012-03-08 00:00:00.0       mg  riflql2a0yv8xoa9sq0recx4x  \n",
       "2  2012-03-08 00:00:00.0       co                        NaN  \n",
       "3  2012-03-08 00:00:00.0       es  gp53lqr9njqd6z2ap5d364sip  \n",
       "4  2012-03-08 00:00:00.0       ad                        NaN  "
      ]
     },
     "execution_count": 4,
     "metadata": {},
     "output_type": "execute_result"
    }
   ],
   "source": [
    "click_df['iplong'] = click_df['iplong'].astype('str')\n",
    "click_df.head()"
   ]
  },
  {
   "cell_type": "code",
   "execution_count": 5,
   "metadata": {
    "scrolled": true
   },
   "outputs": [
    {
     "data": {
      "text/html": [
       "<div>\n",
       "<style scoped>\n",
       "    .dataframe tbody tr th:only-of-type {\n",
       "        vertical-align: middle;\n",
       "    }\n",
       "\n",
       "    .dataframe tbody tr th {\n",
       "        vertical-align: top;\n",
       "    }\n",
       "\n",
       "    .dataframe thead th {\n",
       "        text-align: right;\n",
       "    }\n",
       "</style>\n",
       "<table border=\"1\" class=\"dataframe\">\n",
       "  <thead>\n",
       "    <tr style=\"text-align: right;\">\n",
       "      <th></th>\n",
       "      <th>id</th>\n",
       "      <th>iplong</th>\n",
       "      <th>agent</th>\n",
       "      <th>partnerid</th>\n",
       "      <th>cid</th>\n",
       "      <th>cntr</th>\n",
       "      <th>timeat</th>\n",
       "      <th>category</th>\n",
       "      <th>referer</th>\n",
       "    </tr>\n",
       "  </thead>\n",
       "  <tbody>\n",
       "    <tr>\n",
       "      <th>2598810</th>\n",
       "      <td>14068300</td>\n",
       "      <td>529333457</td>\n",
       "      <td>NokiaC7-00</td>\n",
       "      <td>dvyyn</td>\n",
       "      <td>dtoxb</td>\n",
       "      <td>tr</td>\n",
       "      <td>2012-03-10 23:59:59.0</td>\n",
       "      <td>co</td>\n",
       "      <td>NaN</td>\n",
       "    </tr>\n",
       "    <tr>\n",
       "      <th>2598811</th>\n",
       "      <td>14068302</td>\n",
       "      <td>693145401</td>\n",
       "      <td>MAUI</td>\n",
       "      <td>dvjn5</td>\n",
       "      <td>dshsb</td>\n",
       "      <td>ke</td>\n",
       "      <td>2012-03-10 23:59:59.0</td>\n",
       "      <td>ad</td>\n",
       "      <td>NaN</td>\n",
       "    </tr>\n",
       "    <tr>\n",
       "      <th>2598812</th>\n",
       "      <td>14068303</td>\n",
       "      <td>773203886</td>\n",
       "      <td>NokiaC3-01</td>\n",
       "      <td>du9gd</td>\n",
       "      <td>dtr0u</td>\n",
       "      <td>az</td>\n",
       "      <td>2012-03-10 23:59:59.0</td>\n",
       "      <td>ad</td>\n",
       "      <td>k2bm9tnnxykdq4dwcicwi3tgf</td>\n",
       "    </tr>\n",
       "    <tr>\n",
       "      <th>2598813</th>\n",
       "      <td>14068304</td>\n",
       "      <td>1572479593</td>\n",
       "      <td>Blackberry_8520</td>\n",
       "      <td>dvlh3</td>\n",
       "      <td>drx9n</td>\n",
       "      <td>za</td>\n",
       "      <td>2012-03-10 23:59:59.0</td>\n",
       "      <td>ad</td>\n",
       "      <td>hljgwsswjam84xk3agk24vup5</td>\n",
       "    </tr>\n",
       "    <tr>\n",
       "      <th>2598814</th>\n",
       "      <td>14068305</td>\n",
       "      <td>1578405048</td>\n",
       "      <td>Nokia_X3-02</td>\n",
       "      <td>du9gd</td>\n",
       "      <td>dtr3o</td>\n",
       "      <td>az</td>\n",
       "      <td>2012-03-10 23:59:59.0</td>\n",
       "      <td>ad</td>\n",
       "      <td>mf8i545yxnz5lcz0wq1nbujue</td>\n",
       "    </tr>\n",
       "  </tbody>\n",
       "</table>\n",
       "</div>"
      ],
      "text/plain": [
       "               id      iplong            agent partnerid    cid cntr  \\\n",
       "2598810  14068300   529333457       NokiaC7-00     dvyyn  dtoxb   tr   \n",
       "2598811  14068302   693145401             MAUI     dvjn5  dshsb   ke   \n",
       "2598812  14068303   773203886       NokiaC3-01     du9gd  dtr0u   az   \n",
       "2598813  14068304  1572479593  Blackberry_8520     dvlh3  drx9n   za   \n",
       "2598814  14068305  1578405048      Nokia_X3-02     du9gd  dtr3o   az   \n",
       "\n",
       "                        timeat category                    referer  \n",
       "2598810  2012-03-10 23:59:59.0       co                        NaN  \n",
       "2598811  2012-03-10 23:59:59.0       ad                        NaN  \n",
       "2598812  2012-03-10 23:59:59.0       ad  k2bm9tnnxykdq4dwcicwi3tgf  \n",
       "2598813  2012-03-10 23:59:59.0       ad  hljgwsswjam84xk3agk24vup5  \n",
       "2598814  2012-03-10 23:59:59.0       ad  mf8i545yxnz5lcz0wq1nbujue  "
      ]
     },
     "execution_count": 5,
     "metadata": {},
     "output_type": "execute_result"
    }
   ],
   "source": [
    "click_df.tail()"
   ]
  },
  {
   "cell_type": "markdown",
   "metadata": {},
   "source": [
    "# histogram click timestamps with hour bins."
   ]
  },
  {
   "cell_type": "code",
   "execution_count": 6,
   "metadata": {},
   "outputs": [],
   "source": [
    "click_df['hour'] = click_df['timeat'].str.split(':').str[-3].str.split(' ').str[-1].astype('int')\n",
    "click_df['day'] = click_df['timeat'].str.split(' ').str[0].str.split('-').str[-1].astype('int')-8\n"
   ]
  },
  {
   "cell_type": "code",
   "execution_count": 11,
   "metadata": {},
   "outputs": [
    {
     "name": "stderr",
     "output_type": "stream",
     "text": [
      "<ipython-input-11-261e8b53c187>:2: SettingWithCopyWarning: \n",
      "A value is trying to be set on a copy of a slice from a DataFrame.\n",
      "Try using .loc[row_indexer,col_indexer] = value instead\n",
      "\n",
      "See the caveats in the documentation: https://pandas.pydata.org/pandas-docs/stable/user_guide/indexing.html#returning-a-view-versus-a-copy\n",
      "  hour_df['hours'] = hour_df['hour']+hour_df['day']*24\n"
     ]
    }
   ],
   "source": [
    "hour_df = click_df[['iplong','partnerid','hour', 'day']]\n",
    "hour_df['hours'] = hour_df['hour']+hour_df['day']*24"
   ]
  },
  {
   "cell_type": "code",
   "execution_count": 16,
   "metadata": {},
   "outputs": [],
   "source": [
    "hour_df = hour_df[['iplong','partnerid','hours']]"
   ]
  },
  {
   "cell_type": "code",
   "execution_count": 15,
   "metadata": {},
   "outputs": [
    {
     "data": {
      "text/plain": [
       "[<matplotlib.lines.Line2D at 0x7f95619ca460>]"
      ]
     },
     "execution_count": 15,
     "metadata": {},
     "output_type": "execute_result"
    },
    {
     "data": {
      "image/png": "[encoded data removed]",
      "text/plain": [
       "<Figure size 432x288 with 1 Axes>"
      ]
     },
     "metadata": {
      "needs_background": "light"
     },
     "output_type": "display_data"
    }
   ],
   "source": [
    "count_l = []\n",
    "for i in range(72):\n",
    "    count_l.append(hour_df.hours.value_counts()[i])\n",
    "count_l = np.array(count_l)\n",
    "hour_dist = count_l/sum(count_l)\n",
    "plt.plot(hour_dist)"
   ]
  },
  {
   "cell_type": "code",
   "execution_count": null,
   "metadata": {},
   "outputs": [],
   "source": []
  },
  {
   "cell_type": "markdown",
   "metadata": {},
   "source": [
    "# read publisher nodes with fraud labels"
   ]
  },
  {
   "cell_type": "code",
   "execution_count": 18,
   "metadata": {},
   "outputs": [
    {
     "name": "stdout",
     "output_type": "stream",
     "text": [
      "153\n",
      "82\n"
     ]
    }
   ],
   "source": [
    "U = set(pub_df['partnerid'])\n",
    "V = set(click_df['iplong'])\n",
    "bad_pubs = set(pub_df.loc[pub_df['status']!='OK']['partnerid'].values)\n",
    "print(len(bad_pubs))\n",
    "fraud_pubs = set(pub_df.loc[pub_df['status']=='Fraud']['partnerid'].values)\n",
    "print(len(fraud_pubs))"
   ]
  },
  {
   "cell_type": "code",
   "execution_count": 19,
   "metadata": {},
   "outputs": [],
   "source": [
    "node_mapping = {}\n",
    "node_ind = 0\n",
    "for u in U:\n",
    "    node_mapping[u] = node_ind\n",
    "    node_ind += 1\n",
    "for v in V:\n",
    "    node_mapping[v] = node_ind\n",
    "    node_ind += 1"
   ]
  },
  {
   "cell_type": "code",
   "execution_count": 24,
   "metadata": {},
   "outputs": [],
   "source": [
    "bad = [node_mapping[i] for i in bad_pubs]\n",
    "fraud = [node_mapping[i] for i in fraud_pubs]\n",
    "U_map = [node_mapping[i] for i in U]"
   ]
  },
  {
   "cell_type": "code",
   "execution_count": 22,
   "metadata": {},
   "outputs": [],
   "source": [
    "def peel_by_edge_buzzcity(U, bad, fraud, node_dict, fib_heap, edge_list, least_nodes, log=True, log_interval=1):\n",
    "    total_degree = sum([edge[2] for edge in edge_list])\n",
    "    n = node_dict.__len__()\n",
    "    avg_degree = (float)(total_degree) / n\n",
    "    node_list = list(node_dict.keys())\n",
    "    max_avg = avg_degree\n",
    "    S_size = n\n",
    "    U_losts = [len(U)]\n",
    "    bad_losts = [len(bad)]\n",
    "    fraud_losts = [len(fraud)]\n",
    "\n",
    "    for i in range(n - least_nodes):\n",
    "\n",
    "        # find min node from graph (remove from heap)\n",
    "        node_to_remove = fib_heap.extract_min().value\n",
    "\n",
    "        for motif_type_index in range(len(node_dict[node_to_remove][0].motif_list)):\n",
    "            for edge_index in node_dict[node_to_remove][0].motif_list[motif_type_index]:\n",
    "                total_degree -= edge_list[edge_index][2]\n",
    "                for each_node in edge_list[edge_index][:2]:\n",
    "                    if each_node!= node_to_remove:\n",
    "                        fib_heap.decrease_key(node_dict[each_node][1], node_dict[each_node][1].key-edge_list[edge_index][2])\n",
    "                        node_dict[each_node][0].motif_list[motif_type_index].remove(edge_index)\n",
    "\n",
    "        del node_dict[node_to_remove]\n",
    "    \n",
    "        avg_degree = (float)(total_degree) / (n - i - 1)\n",
    "        if node_to_remove in U:\n",
    "            U_losts.append(U_losts[-1]-1)\n",
    "            if node_to_remove in bad:\n",
    "                bad_losts.append(bad_losts[-1]-1)\n",
    "            else:\n",
    "                bad_losts.append(bad_losts[-1])\n",
    "            if node_to_remove in fraud:\n",
    "                fraud_losts.append(fraud_losts[-1]-1)\n",
    "            else:\n",
    "                fraud_losts.append(fraud_losts[-1])\n",
    "        \n",
    "        if max_avg < avg_degree:\n",
    "            max_avg = avg_degree\n",
    "            node_list = list(node_dict.keys())\n",
    "            S_size = n - i - 1\n",
    "        if log and i%log_interval==0:\n",
    "            print('iteration', i, 'to remove node', node_to_remove)\n",
    "            print(fib_heap.total_nodes, avg_degree, max_avg)\n",
    "    return max_avg, node_list, S_size, U_losts, bad_losts, fraud_losts"
   ]
  },
  {
   "cell_type": "markdown",
   "metadata": {},
   "source": [
    "# Heuristic peeling. Edge (u,v) weight = $\\chi ^2_u * \\chi ^2_v$, Where $\\chi ^2_u$ is the chi square statistics between global histogram and histogram of timestamps of edges connecting to node u."
   ]
  },
  {
   "cell_type": "code",
   "execution_count": 20,
   "metadata": {},
   "outputs": [],
   "source": [
    "hour_edgelist = []\n",
    "for edge in hour_df.values:\n",
    "    hour_edgelist.append((node_mapping[edge[0]], node_mapping[edge[1]], edge[2]))\n",
    "\n",
    "node_chisquares = node_chisquare(hour_edgelist, node_ind, hour_dist)"
   ]
  },
  {
   "cell_type": "code",
   "execution_count": null,
   "metadata": {},
   "outputs": [],
   "source": [
    "pairs = []\n",
    "removed_nodes = []\n",
    "for edge in hour_edgelist:\n",
    "    pairs.append((edge[0], edge[1],node_chisquares[edge[0]]*node_chisquares[edge[1]]))\n",
    "# for i in range(peel_times):\n",
    "#     print('!!', len(pairs[0][0]))\n",
    "node_d, fibheap = init_heap_dict_weighted(pairs)\n",
    "hour_results = peel_by_edge_buzzcity(U_map, bad, fraud, node_d, fibheap, pairs, 1, log=True, log_interval=10000)\n"
   ]
  },
  {
   "cell_type": "code",
   "execution_count": 26,
   "metadata": {},
   "outputs": [],
   "source": [
    "pickle.dump(hour_results, open('buzzcity_chisquare_allhours.pkl','wb'))"
   ]
  },
  {
   "cell_type": "markdown",
   "metadata": {},
   "source": [
    "# We also calculate chi square statistics with minute bins and second bins, process omitted here."
   ]
  },
  {
   "cell_type": "code",
   "execution_count": null,
   "metadata": {},
   "outputs": [],
   "source": []
  },
  {
   "cell_type": "markdown",
   "metadata": {},
   "source": [
    "## Besides, we use number of clicks between nodes as edge weight, and applied dense subgraph peeling as comparison. Below is a figure report the result. Note all these peeling heuristics are sequential, thus we show the performance as follow: x-axis represents the number of publisher nodes remain in the subgraph being peeled, and y-axis shows the number of fraud publishers within. $\\chi ^2$ peeling with hour and minute bins outperform in our result."
   ]
  },
  {
   "cell_type": "code",
   "execution_count": 21,
   "metadata": {},
   "outputs": [
    {
     "data": {
      "image/png": "[encoded data removed]",
      "text/plain": [
       "<Figure size 432x288 with 1 Axes>"
      ]
     },
     "metadata": {
      "needs_background": "light"
     },
     "output_type": "display_data"
    }
   ],
   "source": [
    "plt.plot(hour_results[5][-1000:],label=r'$\\chi^2$-hour')\n",
    "plt.plot(edge_weight_results[5][-1000:],label='number of clicks')\n",
    "plt.plot(sec_results[5][-1000:],label=r'$\\chi^2$-second')\n",
    "plt.plot(results[5][-1000:],label=r'$\\chi^2$-minute')\n",
    "plt.xticks(range(0, 1100, 100), range(1000,-100,-100), rotation=-30)\n",
    "plt.legend()\n",
    "plt.xlabel('# of publisher nodes remain')\n",
    "plt.ylabel('# of fraud nodes remain')\n",
    "plt.savefig('figs/buzzcity/dsdcompare.png')\n",
    "plt.show()"
   ]
  },
  {
   "cell_type": "code",
   "execution_count": null,
   "metadata": {},
   "outputs": [],
   "source": []
  }
 ],
 "metadata": {
  "kernelspec": {
   "display_name": "Python 3",
   "language": "python",
   "name": "python3"
  },
  "language_info": {
   "codemirror_mode": {
    "name": "ipython",
    "version": 3
   },
   "file_extension": ".py",
   "mimetype": "text/x-python",
   "name": "python",
   "nbconvert_exporter": "python",
   "pygments_lexer": "ipython3",
   "version": "3.8.5"
  }
 },
 "nbformat": 4,
 "nbformat_minor": 2
}
