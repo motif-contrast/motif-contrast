{
 "cells": [
  {
   "cell_type": "code",
   "execution_count": 1,
   "metadata": {},
   "outputs": [],
   "source": [
    "import networkx as nx\n",
    "import numpy as np\n",
    "import matplotlib.pyplot as plt\n",
    "from fibheap import FibonacciHeap as FibHeap\n",
    "from peel_by_motif import *\n",
    "import random\n",
    "import pandas as pd\n",
    "from datetime import datetime\n",
    "from compare_algs.greedy_algorithms import *\n",
    "import graph_tool.all as gt\n",
    "\n",
    "import dwave_networkx as dnx\n",
    "import dimod\n",
    "plt.rcParams.update({'font.size': 14})\n",
    "sampler = dimod.SimulatedAnnealingSampler()"
   ]
  },
  {
   "cell_type": "code",
   "execution_count": null,
   "metadata": {},
   "outputs": [],
   "source": []
  },
  {
   "cell_type": "code",
   "execution_count": null,
   "metadata": {},
   "outputs": [],
   "source": [
    "result = []\n",
    "syn_res= []\n",
    "# repeat random graph construction five times.\n",
    "for i in range(5):\n",
    "    tresult = []\n",
    "    tsyn_res = []\n",
    "#     iterating p values\n",
    "    for p in [0.1, 0.2, 0.4, 0.6]:\n",
    "        q=0.1\n",
    "#         Build random graph with two parts\n",
    "        synG = nx.algorithms.bipartite.generators.random_graph(50, 50, p)\n",
    "        for i in range(100, 200):\n",
    "            synG.add_node(i)\n",
    "            for j in range(100):\n",
    "                if random.uniform(0,1)<0.01:\n",
    "                    synG.add_edge(i,j)\n",
    "\n",
    "        for i in range(100, 200):\n",
    "            for j in range(i+1, 200):\n",
    "                if random.uniform(0,1)<q:\n",
    "                    synG.add_edge(i,j)\n",
    "\n",
    "#         calculate max cut of original graph with randomized algorithm\n",
    "        cut = dnx.maximum_cut(synG, sampler)\n",
    "        cutsize = nx.cut_size(synG, cut)\n",
    "        tsyn_res.append(cutsize/len(synG.edges))\n",
    "        \n",
    "#         listing all K3 and C4\n",
    "        triangle_sub = nx.Graph([(1,2),(2,3),(1,3)])\n",
    "        square_sub = nx.Graph([(1,2),(2,3),(3,0),(0,1)])\n",
    "\n",
    "        ismags1 = nx.isomorphism.ISMAGS(synG, triangle_sub)\n",
    "        ismags2 = nx.isomorphism.ISMAGS(synG, square_sub)\n",
    "        it = ismags1.find_isomorphisms()\n",
    "        cycls_3 = [list(dic.keys()) for dic in it]\n",
    "        it = ismags2.find_isomorphisms()\n",
    "        cycls_4 = [list(dic.keys()) for dic in it]\n",
    "        \n",
    "        node_d, fibheap = init_heap_and_dict([(cycls_4,1), (cycls_3,-1)])\n",
    "        \n",
    "#         peeling with K3 and C4 contrast\n",
    "        results = peel_by_motif(node_d, fibheap, [(cycls_4,1), (cycls_3,-1)], 1, False)\n",
    "        H = synG.subgraph(results[1])\n",
    "        \n",
    "#         calculate max cut of result subgraph with randomized algorithm\n",
    "        cut = dnx.maximum_cut(H, sampler)\n",
    "        cutsize = nx.cut_size(H, cut)\n",
    "        print(cutsize/len(H.edges))\n",
    "        tresult.append(cutsize/len(H.edges))\n",
    "    result.append(tresult)\n",
    "    syn_res.append(tsyn_res)"
   ]
  },
  {
   "cell_type": "code",
   "execution_count": 14,
   "metadata": {},
   "outputs": [
    {
     "data": {
      "text/plain": [
       "array([0.72846515, 1.        , 1.        , 1.        ])"
      ]
     },
     "execution_count": 14,
     "metadata": {},
     "output_type": "execute_result"
    }
   ],
   "source": [
    "np.mean(result, axis=0)"
   ]
  },
  {
   "cell_type": "code",
   "execution_count": 23,
   "metadata": {},
   "outputs": [
    {
     "data": {
      "image/png": "[encoded data removed]",
      "text/plain": [
       "<Figure size 432x288 with 1 Axes>"
      ]
     },
     "metadata": {
      "needs_background": "light"
     },
     "output_type": "display_data"
    }
   ],
   "source": [
    "\n",
    "mean = np.mean(result, axis=0)\n",
    "labels= [0.1, 0.2, 0.4, 0.6]\n",
    "std = np.std(result, axis=0)\n",
    "x_pos = np.arange((4))\n",
    "fig, ax = plt.subplots()\n",
    "ax.bar(x_pos, mean,\n",
    "       yerr=std,\n",
    "       align='center',\n",
    "       alpha=0.5,\n",
    "       ecolor='black', width=0.4,\n",
    "       capsize=10)\n",
    "ax.set_xlabel('value of p')\n",
    "plt.ylabel('Max cut / # of edges')\n",
    "ax.set_xticks(x_pos)\n",
    "ax.set_xticklabels(labels)\n",
    "# ax.set_title('Coefficent of Thermal Expansion (CTE) of Three Metals')\n",
    "# ax.yaxis.grid(True)\n",
    "\n",
    "# Save the figure and show\n",
    "plt.tight_layout()\n",
    "plt.savefig('figs/synthetic/bar_plot_with_error_bars.png')\n",
    "plt.show()"
   ]
  },
  {
   "cell_type": "code",
   "execution_count": 23,
   "metadata": {},
   "outputs": [
    {
     "name": "stdout",
     "output_type": "stream",
     "text": [
      "[0.7863046044864227, 0.8389261744966443, 0.8911521323997453, 0.9128769746290091]\n",
      "[0.7799511002444988, 1.0, 1.0, 1.0]\n"
     ]
    }
   ],
   "source": [
    "print(syn_res)\n",
    "print(result)"
   ]
  },
  {
   "cell_type": "code",
   "execution_count": null,
   "metadata": {},
   "outputs": [],
   "source": []
  }
 ],
 "metadata": {
  "kernelspec": {
   "display_name": "gt",
   "language": "python",
   "name": "gt"
  },
  "language_info": {
   "codemirror_mode": {
    "name": "ipython",
    "version": 3
   },
   "file_extension": ".py",
   "mimetype": "text/x-python",
   "name": "python",
   "nbconvert_exporter": "python",
   "pygments_lexer": "ipython3",
   "version": "3.9.0"
  }
 },
 "nbformat": 4,
 "nbformat_minor": 4
}
