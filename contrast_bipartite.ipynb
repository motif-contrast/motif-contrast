{
 "cells": [
  {
   "cell_type": "code",
   "execution_count": 1,
   "metadata": {},
   "outputs": [],
   "source": [
    "import networkx as nx\n",
    "import numpy as np\n",
    "import matplotlib.pyplot as plt\n",
    "from fibheap import FibonacciHeap as FibHeap\n",
    "from peel_by_motif import *\n",
    "import random\n",
    "import pandas as pd\n",
    "from datetime import datetime\n",
    "from compare_algs.greedy_algorithms import *\n",
    "import graph_tool.all as gt\n",
    "\n",
    "import dwave_networkx as dnx\n",
    "import dimod\n",
    "plt.rcParams.update({'font.size': 14})\n",
    "sampler = dimod.SimulatedAnnealingSampler()"
   ]
  },
  {
   "cell_type": "code",
   "execution_count": 19,
   "metadata": {},
   "outputs": [],
   "source": [
    "df = pd.read_csv('data/soc-sign-bitcoinalpha.csv', names=['source','sink','rate','time'])\n",
    "G = nx.from_pandas_edgelist(df, 'source', 'sink',['rate'])\n",
    "largest_cc = max(nx.connected_components(G), key=len)\n",
    "G = G.subgraph(largest_cc)"
   ]
  },
  {
   "cell_type": "code",
   "execution_count": 33,
   "metadata": {},
   "outputs": [
    {
     "name": "stdout",
     "output_type": "stream",
     "text": [
      "0:07:02.758811\n"
     ]
    }
   ],
   "source": [
    "triangle_sub = nx.Graph([(1,2),(2,3),(1,3)])\n",
    "square_sub = nx.Graph([(1,2),(2,3),(3,0),(0,1)])\n",
    "\n",
    "start=datetime.now()\n",
    "\n",
    "ismags1 = nx.isomorphism.ISMAGS(G, triangle_sub)\n",
    "ismags2 = nx.isomorphism.ISMAGS(G, square_sub)\n",
    "it = ismags1.find_isomorphisms()\n",
    "cycls_3 = [list(dic.keys()) for dic in it]\n",
    "it = ismags2.find_isomorphisms()\n",
    "cycls_4 = [list(dic.keys()) for dic in it]\n",
    "\n",
    "print(datetime.now()-start)\n"
   ]
  },
  {
   "cell_type": "code",
   "execution_count": 21,
   "metadata": {},
   "outputs": [
    {
     "data": {
      "text/plain": [
       "(9833, 14120, 0.6963881019830028)"
      ]
     },
     "execution_count": 21,
     "metadata": {},
     "output_type": "execute_result"
    }
   ],
   "source": [
    "cut = dnx.maximum_cut(G, sampler)\n",
    "cutsize = nx.cut_size(G, cut)\n",
    "cutsize, len(G.edges), cutsize/len(G.edges)"
   ]
  },
  {
   "cell_type": "code",
   "execution_count": 34,
   "metadata": {},
   "outputs": [],
   "source": [
    "node_d, fibheap = init_heap_and_dict([(cycls_4,1), (cycls_3,-1)])\n",
    "results = peel_by_motif(node_d, fibheap, [(cycls_4,1), (cycls_3,-1)], 1, False)\n",
    "H = G.subgraph(results[1])"
   ]
  },
  {
   "cell_type": "code",
   "execution_count": 35,
   "metadata": {},
   "outputs": [
    {
     "data": {
      "text/plain": [
       "(1924, 14120, 0.13626062322946175)"
      ]
     },
     "execution_count": 35,
     "metadata": {},
     "output_type": "execute_result"
    }
   ],
   "source": [
    "cut = dnx.maximum_cut(H, sampler)\n",
    "cutsize = nx.cut_size(H, cut)\n",
    "cutsize, len(G.edges), cutsize/len(G.edges)"
   ]
  },
  {
   "cell_type": "code",
   "execution_count": 36,
   "metadata": {},
   "outputs": [
    {
     "data": {
      "text/plain": [
       "(1938, 14120, 0.13725212464589234)"
      ]
     },
     "execution_count": 36,
     "metadata": {},
     "output_type": "execute_result"
    }
   ],
   "source": [
    "node_d, fibheap = init_heap_and_dict([(cycls_4,1), (cycls_3,-0.1)])\n",
    "results = peel_by_motif(node_d, fibheap, [(cycls_4,1), (cycls_3,-1)], 1, False)\n",
    "H = G.subgraph(results[1])\n",
    "cut = dnx.maximum_cut(H, sampler)\n",
    "cutsize = nx.cut_size(H, cut)\n",
    "cutsize, len(G.edges), cutsize/len(G.edges)"
   ]
  },
  {
   "cell_type": "code",
   "execution_count": 37,
   "metadata": {},
   "outputs": [
    {
     "data": {
      "text/plain": [
       "(8429, 14120, 0.5969546742209632)"
      ]
     },
     "execution_count": 37,
     "metadata": {},
     "output_type": "execute_result"
    }
   ],
   "source": [
    "node_d, fibheap = init_heap_and_dict([(cycls_4,1), (cycls_3,-10)])\n",
    "results = peel_by_motif(node_d, fibheap, [(cycls_4,1), (cycls_3,-1)], 1, False)\n",
    "H = G.subgraph(results[1])\n",
    "cut = dnx.maximum_cut(H, sampler)\n",
    "cutsize = nx.cut_size(H, cut)\n",
    "cutsize, len(G.edges), cutsize/len(G.edges)"
   ]
  },
  {
   "cell_type": "code",
   "execution_count": null,
   "metadata": {},
   "outputs": [],
   "source": []
  },
  {
   "cell_type": "code",
   "execution_count": 7,
   "metadata": {},
   "outputs": [
    {
     "name": "stdout",
     "output_type": "stream",
     "text": [
      "0.4316877152698048\n",
      "0.44802867383512546\n",
      "0.6515723270440251\n",
      "0.7387254901960785\n",
      "0.31776765375854216\n",
      "0.3893058161350844\n",
      "0.6467181467181468\n",
      "0.7249143416544298\n",
      "0.37668711656441717\n",
      "0.4326568265682657\n",
      "0.625615763546798\n",
      "0.7156353330184223\n",
      "0.3784431137724551\n",
      "0.3879728419010669\n",
      "0.6204107031736155\n",
      "0.7028487229862476\n",
      "0.3841676367869616\n",
      "0.44314079422382674\n",
      "0.6182965299684543\n",
      "0.7274463007159905\n"
     ]
    }
   ],
   "source": [
    "result = []\n",
    "syn_res= []\n",
    "for i in range(5):\n",
    "    tresult = []\n",
    "    tsyn_res = []\n",
    "    for p in [0.1, 0.2, 0.4, 0.6]:\n",
    "        q=0.1\n",
    "        synG = nx.algorithms.bipartite.generators.random_graph(50, 50, p)\n",
    "        for i in range(100, 200):\n",
    "            synG.add_node(i)\n",
    "            for j in range(100):\n",
    "                if random.uniform(0,1)<0.01:\n",
    "                    synG.add_edge(i,j)\n",
    "\n",
    "        for i in range(100, 200):\n",
    "            for j in range(i+1, 200):\n",
    "                if random.uniform(0,1)<q:\n",
    "                    synG.add_edge(i,j)\n",
    "\n",
    "        cut = dnx.maximum_cut(synG, sampler)\n",
    "        cutsize = nx.cut_size(synG, cut)\n",
    "        tsyn_res.append(cutsize/len(synG.edges))\n",
    "        triangle_sub = nx.Graph([(1,2),(2,3),(1,3)])\n",
    "        square_sub = nx.Graph([(1,2),(2,3),(3,0),(0,1)])\n",
    "\n",
    "        ismags1 = nx.isomorphism.ISMAGS(synG, triangle_sub)\n",
    "        ismags2 = nx.isomorphism.ISMAGS(synG, square_sub)\n",
    "        it = ismags1.find_isomorphisms()\n",
    "        cycls_3 = [list(dic.keys()) for dic in it]\n",
    "        it = ismags2.find_isomorphisms()\n",
    "        cycls_4 = [list(dic.keys()) for dic in it]\n",
    "        node_d, fibheap = init_heap_and_dict([(cycls_4,1), (cycls_3,-1)])\n",
    "        results = peel_by_motif(node_d, fibheap, [(cycls_4,1), (cycls_3,-1)], 1, False)\n",
    "        H = synG.subgraph(results[1])\n",
    "        cut = dnx.maximum_cut(H, sampler)\n",
    "        cutsize = nx.cut_size(H, cut)\n",
    "        print(cutsize/len(H.edges))\n",
    "        tresult.append(cutsize/len(H.edges))\n",
    "    result.append(tresult)\n",
    "    syn_res.append(tsyn_res)"
   ]
  },
  {
   "cell_type": "code",
   "execution_count": 9,
   "metadata": {},
   "outputs": [],
   "source": [
    "cut = dnx.maximum_cut(H, sampler)\n",
    "cutsize = nx.cut_size(H, cut)"
   ]
  },
  {
   "cell_type": "code",
   "execution_count": 11,
   "metadata": {},
   "outputs": [
    {
     "data": {
      "text/plain": [
       "(1524, 1524)"
      ]
     },
     "execution_count": 11,
     "metadata": {},
     "output_type": "execute_result"
    }
   ],
   "source": [
    "cutsize, len(H.edges)"
   ]
  },
  {
   "cell_type": "code",
   "execution_count": 12,
   "metadata": {},
   "outputs": [
    {
     "name": "stdout",
     "output_type": "stream",
     "text": [
      "[[0.7944890929965557, 0.839605734767025, 0.9006289308176101, 0.9269607843137255], [0.7790432801822323, 0.8255159474671669, 0.8976833976833977, 0.9202153695545766], [0.7865030674846626, 0.8339483394833949, 0.8842364532019704, 0.9126121870571563], [0.7940119760479042, 0.8370514064015518, 0.8867454884878656, 0.9081532416502947], [0.7823050058207218, 0.8402527075812274, 0.8826498422712934, 0.9183770883054893]]\n",
      "[[0.734375, 1.0, 1.0, 1.0], [0.7246753246753247, 1.0, 1.0, 1.0], [0.7379807692307693, 1.0, 1.0, 1.0], [0.7247706422018348, 1.0, 1.0, 1.0], [0.7205240174672489, 1.0, 1.0, 1.0]]\n"
     ]
    }
   ],
   "source": [
    "print(syn_res)\n",
    "print(result)"
   ]
  },
  {
   "cell_type": "code",
   "execution_count": 2,
   "metadata": {},
   "outputs": [],
   "source": [
    "syn_res = [0.7863046044864227, 0.8389261744966443, 0.8911521323997453, 0.9128769746290091]\n",
    "result = [0.7799511002444988, 1.0, 1.0, 1.0]\n"
   ]
  },
  {
   "cell_type": "code",
   "execution_count": 14,
   "metadata": {},
   "outputs": [
    {
     "data": {
      "text/plain": [
       "array([0.72846515, 1.        , 1.        , 1.        ])"
      ]
     },
     "execution_count": 14,
     "metadata": {},
     "output_type": "execute_result"
    }
   ],
   "source": [
    "np.mean(result, axis=0)"
   ]
  },
  {
   "cell_type": "code",
   "execution_count": 23,
   "metadata": {},
   "outputs": [
    {
     "data": {
      "image/png": "[encoded data removed]",
      "text/plain": [
       "<Figure size 432x288 with 1 Axes>"
      ]
     },
     "metadata": {
      "needs_background": "light"
     },
     "output_type": "display_data"
    }
   ],
   "source": [
    "\n",
    "mean = np.mean(result, axis=0)\n",
    "labels= [0.1, 0.2, 0.4, 0.6]\n",
    "std = np.std(result, axis=0)\n",
    "x_pos = np.arange((4))\n",
    "fig, ax = plt.subplots()\n",
    "ax.bar(x_pos, mean,\n",
    "       yerr=std,\n",
    "       align='center',\n",
    "       alpha=0.5,\n",
    "       ecolor='black', width=0.4,\n",
    "       capsize=10)\n",
    "ax.set_xlabel('value of p')\n",
    "plt.ylabel('Max cut / # of edges')\n",
    "ax.set_xticks(x_pos)\n",
    "ax.set_xticklabels(labels)\n",
    "# ax.set_title('Coefficent of Thermal Expansion (CTE) of Three Metals')\n",
    "# ax.yaxis.grid(True)\n",
    "\n",
    "# Save the figure and show\n",
    "plt.tight_layout()\n",
    "plt.savefig('figs/synthetic/bar_plot_with_error_bars.png')\n",
    "plt.show()"
   ]
  },
  {
   "cell_type": "code",
   "execution_count": 4,
   "metadata": {},
   "outputs": [
    {
     "data": {
      "image/png": "[encoded data removed]",
      "text/plain": [
       "<Figure size 432x288 with 1 Axes>"
      ]
     },
     "metadata": {
      "needs_background": "light"
     },
     "output_type": "display_data"
    }
   ],
   "source": [
    "# for i in range(len(result)):\n",
    "x = [i for i in range(4)]\n",
    "# plt.bar(np.array(x)-0.15, syn_res, width = 0.3, color='r')\n",
    "plt.bar(np.array(x), result, width = 0.3, color='b')\n",
    "#setting the xticks. Note x1 and x2 are tuples, thus + is concatenation\n",
    "plt.xticks(range(4), [0.1, 0.2, 0.4, 0.6]) \n",
    "plt.xlabel('value of p')\n",
    "plt.ylabel('Max cut / # of edges')\n",
    "# colors = {'original':'red', 'contrasted':'blue'}         \n",
    "# labels = list(colors.keys())\n",
    "# handles = [plt.Rectangle((0,0),1,1, color=colors[label]) for label in labels]\n",
    "# plt.legend(handles, labels, loc='lower right')\n",
    "plt.tight_layout()\n",
    "plt.savefig('figs/synthetic/near_bipartite.png')\n",
    "plt.show()"
   ]
  },
  {
   "cell_type": "code",
   "execution_count": 23,
   "metadata": {},
   "outputs": [
    {
     "name": "stdout",
     "output_type": "stream",
     "text": [
      "[0.7863046044864227, 0.8389261744966443, 0.8911521323997453, 0.9128769746290091]\n",
      "[0.7799511002444988, 1.0, 1.0, 1.0]\n"
     ]
    }
   ],
   "source": [
    "print(syn_res)\n",
    "print(result)"
   ]
  },
  {
   "cell_type": "code",
   "execution_count": 8,
   "metadata": {},
   "outputs": [
    {
     "name": "stdout",
     "output_type": "stream",
     "text": [
      "0.650253807106599\n",
      "0.6031312127236581\n"
     ]
    },
    {
     "ename": "KeyboardInterrupt",
     "evalue": "",
     "output_type": "error",
     "traceback": [
      "\u001b[0;31m---------------------------------------------------------------------------\u001b[0m",
      "\u001b[0;31mKeyboardInterrupt\u001b[0m                         Traceback (most recent call last)",
      "\u001b[0;32m<ipython-input-8-d54d29dee76e>\u001b[0m in \u001b[0;36m<module>\u001b[0;34m\u001b[0m\n\u001b[1;32m     26\u001b[0m     \u001b[0mcycls_4\u001b[0m \u001b[0;34m=\u001b[0m \u001b[0;34m[\u001b[0m\u001b[0mlist\u001b[0m\u001b[0;34m(\u001b[0m\u001b[0mdic\u001b[0m\u001b[0;34m.\u001b[0m\u001b[0mkeys\u001b[0m\u001b[0;34m(\u001b[0m\u001b[0;34m)\u001b[0m\u001b[0;34m)\u001b[0m \u001b[0;32mfor\u001b[0m \u001b[0mdic\u001b[0m \u001b[0;32min\u001b[0m \u001b[0mit\u001b[0m\u001b[0;34m]\u001b[0m\u001b[0;34m\u001b[0m\u001b[0;34m\u001b[0m\u001b[0m\n\u001b[1;32m     27\u001b[0m     \u001b[0mnode_d\u001b[0m\u001b[0;34m,\u001b[0m \u001b[0mfibheap\u001b[0m \u001b[0;34m=\u001b[0m \u001b[0minit_heap_and_dict\u001b[0m\u001b[0;34m(\u001b[0m\u001b[0;34m[\u001b[0m\u001b[0;34m(\u001b[0m\u001b[0mcycls_4\u001b[0m\u001b[0;34m,\u001b[0m\u001b[0;36m1\u001b[0m\u001b[0;34m)\u001b[0m\u001b[0;34m,\u001b[0m \u001b[0;34m(\u001b[0m\u001b[0mcycls_3\u001b[0m\u001b[0;34m,\u001b[0m\u001b[0;34m-\u001b[0m\u001b[0;36m1\u001b[0m\u001b[0;34m)\u001b[0m\u001b[0;34m]\u001b[0m\u001b[0;34m)\u001b[0m\u001b[0;34m\u001b[0m\u001b[0;34m\u001b[0m\u001b[0m\n\u001b[0;32m---> 28\u001b[0;31m     \u001b[0mresults\u001b[0m \u001b[0;34m=\u001b[0m \u001b[0mpeel_by_motif\u001b[0m\u001b[0;34m(\u001b[0m\u001b[0mnode_d\u001b[0m\u001b[0;34m,\u001b[0m \u001b[0mfibheap\u001b[0m\u001b[0;34m,\u001b[0m \u001b[0;34m[\u001b[0m\u001b[0;34m(\u001b[0m\u001b[0mcycls_4\u001b[0m\u001b[0;34m,\u001b[0m\u001b[0;36m1\u001b[0m\u001b[0;34m)\u001b[0m\u001b[0;34m,\u001b[0m \u001b[0;34m(\u001b[0m\u001b[0mcycls_3\u001b[0m\u001b[0;34m,\u001b[0m\u001b[0;34m-\u001b[0m\u001b[0;36m1\u001b[0m\u001b[0;34m)\u001b[0m\u001b[0;34m]\u001b[0m\u001b[0;34m,\u001b[0m \u001b[0;36m1\u001b[0m\u001b[0;34m,\u001b[0m \u001b[0;32mFalse\u001b[0m\u001b[0;34m)\u001b[0m\u001b[0;34m\u001b[0m\u001b[0;34m\u001b[0m\u001b[0m\n\u001b[0m\u001b[1;32m     29\u001b[0m     \u001b[0mH\u001b[0m \u001b[0;34m=\u001b[0m \u001b[0msynG\u001b[0m\u001b[0;34m.\u001b[0m\u001b[0msubgraph\u001b[0m\u001b[0;34m(\u001b[0m\u001b[0mresults\u001b[0m\u001b[0;34m[\u001b[0m\u001b[0;36m1\u001b[0m\u001b[0;34m]\u001b[0m\u001b[0;34m)\u001b[0m\u001b[0;34m\u001b[0m\u001b[0;34m\u001b[0m\u001b[0m\n\u001b[1;32m     30\u001b[0m     \u001b[0mcut\u001b[0m \u001b[0;34m=\u001b[0m \u001b[0mdnx\u001b[0m\u001b[0;34m.\u001b[0m\u001b[0mmaximum_cut\u001b[0m\u001b[0;34m(\u001b[0m\u001b[0mH\u001b[0m\u001b[0;34m,\u001b[0m \u001b[0msampler\u001b[0m\u001b[0;34m)\u001b[0m\u001b[0;34m\u001b[0m\u001b[0;34m\u001b[0m\u001b[0m\n",
      "\u001b[0;32m~/Python_projects/anomaly_data/peel_by_motif.py\u001b[0m in \u001b[0;36mpeel_by_motif\u001b[0;34m(node_dict, fib_heap, motif_lists, least_nodes, log, log_interval)\u001b[0m\n\u001b[1;32m     60\u001b[0m                     \u001b[0;32mif\u001b[0m \u001b[0meach_node\u001b[0m\u001b[0;34m!=\u001b[0m \u001b[0mnode_to_remove\u001b[0m\u001b[0;34m:\u001b[0m\u001b[0;34m\u001b[0m\u001b[0;34m\u001b[0m\u001b[0m\n\u001b[1;32m     61\u001b[0m                         \u001b[0mfib_heap\u001b[0m\u001b[0;34m.\u001b[0m\u001b[0mdecrease_key\u001b[0m\u001b[0;34m(\u001b[0m\u001b[0mnode_dict\u001b[0m\u001b[0;34m[\u001b[0m\u001b[0meach_node\u001b[0m\u001b[0;34m]\u001b[0m\u001b[0;34m[\u001b[0m\u001b[0;36m1\u001b[0m\u001b[0;34m]\u001b[0m\u001b[0;34m,\u001b[0m \u001b[0mnode_dict\u001b[0m\u001b[0;34m[\u001b[0m\u001b[0meach_node\u001b[0m\u001b[0;34m]\u001b[0m\u001b[0;34m[\u001b[0m\u001b[0;36m1\u001b[0m\u001b[0;34m]\u001b[0m\u001b[0;34m.\u001b[0m\u001b[0mkey\u001b[0m\u001b[0;34m-\u001b[0m\u001b[0mmotif_lists\u001b[0m\u001b[0;34m[\u001b[0m\u001b[0mmotif_type_index\u001b[0m\u001b[0;34m]\u001b[0m\u001b[0;34m[\u001b[0m\u001b[0;36m1\u001b[0m\u001b[0;34m]\u001b[0m\u001b[0;34m)\u001b[0m\u001b[0;34m\u001b[0m\u001b[0;34m\u001b[0m\u001b[0m\n\u001b[0;32m---> 62\u001b[0;31m                         \u001b[0mnode_dict\u001b[0m\u001b[0;34m[\u001b[0m\u001b[0meach_node\u001b[0m\u001b[0;34m]\u001b[0m\u001b[0;34m[\u001b[0m\u001b[0;36m0\u001b[0m\u001b[0;34m]\u001b[0m\u001b[0;34m.\u001b[0m\u001b[0mmotif_list\u001b[0m\u001b[0;34m[\u001b[0m\u001b[0mmotif_type_index\u001b[0m\u001b[0;34m]\u001b[0m\u001b[0;34m.\u001b[0m\u001b[0mremove\u001b[0m\u001b[0;34m(\u001b[0m\u001b[0mmotif_index\u001b[0m\u001b[0;34m)\u001b[0m\u001b[0;34m\u001b[0m\u001b[0;34m\u001b[0m\u001b[0m\n\u001b[0m\u001b[1;32m     63\u001b[0m \u001b[0;34m\u001b[0m\u001b[0m\n\u001b[1;32m     64\u001b[0m         \u001b[0;32mdel\u001b[0m \u001b[0mnode_dict\u001b[0m\u001b[0;34m[\u001b[0m\u001b[0mnode_to_remove\u001b[0m\u001b[0;34m]\u001b[0m\u001b[0;34m\u001b[0m\u001b[0;34m\u001b[0m\u001b[0m\n",
      "\u001b[0;31mKeyboardInterrupt\u001b[0m: "
     ]
    }
   ],
   "source": [
    "result = []\n",
    "syn_res= []\n",
    "for p in [0.1, 0.2, 0.4, 0.05]:\n",
    "    synG = nx.erdos_renyi_graph(200, p)\n",
    "    cut = dnx.maximum_cut(synG, sampler)\n",
    "    cutsize = nx.cut_size(synG, cut)\n",
    "    syn_res.append(cutsize/len(synG.edges))\n",
    "#     for i in range(100, 200):\n",
    "#         synG.add_node(i)\n",
    "#         for j in range(100):\n",
    "#             if random.uniform(0,1)<0.01:\n",
    "#                 synG.add_edge(i,j)\n",
    "\n",
    "#     for i in range(100, 200):\n",
    "#         for j in range(i+1, 200):\n",
    "#             if random.uniform(0,1)<q:\n",
    "#                 synG.add_edge(i,j)\n",
    "    triangle_sub = nx.Graph([(1,2),(2,3),(1,3)])\n",
    "    square_sub = nx.Graph([(1,2),(2,3),(3,0),(0,1)])\n",
    "\n",
    "    ismags1 = nx.isomorphism.ISMAGS(synG, triangle_sub)\n",
    "    ismags2 = nx.isomorphism.ISMAGS(synG, square_sub)\n",
    "    it = ismags1.find_isomorphisms()\n",
    "    cycls_3 = [list(dic.keys()) for dic in it]\n",
    "    it = ismags2.find_isomorphisms()\n",
    "    cycls_4 = [list(dic.keys()) for dic in it]\n",
    "    node_d, fibheap = init_heap_and_dict([(cycls_4,1), (cycls_3,-1)])\n",
    "    results = peel_by_motif(node_d, fibheap, [(cycls_4,1), (cycls_3,-1)], 1, False)\n",
    "    H = synG.subgraph(results[1])\n",
    "    cut = dnx.maximum_cut(H, sampler)\n",
    "    cutsize = nx.cut_size(H, cut)\n",
    "    print(cutsize/len(synG.edges))\n",
    "    result.append(cutsize/len(H.edges))"
   ]
  },
  {
   "cell_type": "code",
   "execution_count": null,
   "metadata": {},
   "outputs": [],
   "source": []
  },
  {
   "cell_type": "code",
   "execution_count": 48,
   "metadata": {},
   "outputs": [
    {
     "data": {
      "text/plain": [
       "(312, 358, 0.8715083798882681)"
      ]
     },
     "execution_count": 48,
     "metadata": {},
     "output_type": "execute_result"
    }
   ],
   "source": [
    "cut = dnx.maximum_cut(synG, sampler)\n",
    "cutsize = nx.cut_size(synG, cut)\n",
    "cutsize, len(synG.edges), cutsize/len(synG.edges)"
   ]
  },
  {
   "cell_type": "code",
   "execution_count": 49,
   "metadata": {},
   "outputs": [
    {
     "data": {
      "text/plain": [
       "(131, 131, 1.0)"
      ]
     },
     "execution_count": 49,
     "metadata": {},
     "output_type": "execute_result"
    }
   ],
   "source": [
    "node_d, fibheap = init_heap_and_dict([(cycls_4,1), (cycls_3,-1)])\n",
    "results = peel_by_motif(node_d, fibheap, [(cycls_4,1), (cycls_3,-1)], 1, False)\n",
    "H = synG.subgraph(results[1])\n",
    "cut = dnx.maximum_cut(H, sampler)\n",
    "cutsize = nx.cut_size(H, cut)\n",
    "cutsize, len(H.edges), cutsize/len(H.edges)"
   ]
  },
  {
   "cell_type": "code",
   "execution_count": 52,
   "metadata": {},
   "outputs": [
    {
     "data": {
      "text/plain": [
       "{0,\n",
       " 1,\n",
       " 2,\n",
       " 4,\n",
       " 5,\n",
       " 6,\n",
       " 7,\n",
       " 9,\n",
       " 10,\n",
       " 11,\n",
       " 14,\n",
       " 15,\n",
       " 16,\n",
       " 17,\n",
       " 18,\n",
       " 19,\n",
       " 21,\n",
       " 23,\n",
       " 24,\n",
       " 25,\n",
       " 26,\n",
       " 27,\n",
       " 28,\n",
       " 29,\n",
       " 69,\n",
       " 94}"
      ]
     },
     "execution_count": 52,
     "metadata": {},
     "output_type": "execute_result"
    }
   ],
   "source": [
    "cut"
   ]
  },
  {
   "cell_type": "code",
   "execution_count": null,
   "metadata": {},
   "outputs": [],
   "source": []
  },
  {
   "cell_type": "code",
   "execution_count": 57,
   "metadata": {},
   "outputs": [],
   "source": [
    "synG = nx.algorithms.bipartite.generators.random_graph(30, 30, 0.2)\n",
    "for i in range(60, 120):\n",
    "    synG.add_node(i)\n",
    "    for j in range(60):\n",
    "        if random.uniform(0,1)<0.02:\n",
    "            synG.add_edge(i,j)\n",
    "            \n",
    "for i in range(60, 120):\n",
    "    for j in range(i+1, 120):\n",
    "        if random.uniform(0,1)<0.15:\n",
    "            synG.add_edge(i,j)"
   ]
  },
  {
   "cell_type": "code",
   "execution_count": 58,
   "metadata": {},
   "outputs": [
    {
     "name": "stdout",
     "output_type": "stream",
     "text": [
      "0:00:00.321991\n"
     ]
    }
   ],
   "source": [
    "triangle_sub = nx.Graph([(1,2),(2,3),(1,3)])\n",
    "square_sub = nx.Graph([(1,2),(2,3),(3,0),(0,1)])\n",
    "\n",
    "start=datetime.now()\n",
    "\n",
    "ismags1 = nx.isomorphism.ISMAGS(synG, triangle_sub)\n",
    "ismags2 = nx.isomorphism.ISMAGS(synG, square_sub)\n",
    "it = ismags1.find_isomorphisms()\n",
    "cycls_3 = [list(dic.keys()) for dic in it]\n",
    "it = ismags2.find_isomorphisms()\n",
    "cycls_4 = [list(dic.keys()) for dic in it]\n",
    "\n",
    "print(datetime.now()-start)"
   ]
  },
  {
   "cell_type": "code",
   "execution_count": 59,
   "metadata": {},
   "outputs": [
    {
     "data": {
      "text/plain": [
       "(409, 517, 0.7911025145067698)"
      ]
     },
     "execution_count": 59,
     "metadata": {},
     "output_type": "execute_result"
    }
   ],
   "source": [
    "cut = dnx.maximum_cut(synG, sampler)\n",
    "cutsize = nx.cut_size(synG, cut)\n",
    "cutsize, len(synG.edges), cutsize/len(synG.edges)"
   ]
  },
  {
   "cell_type": "code",
   "execution_count": 60,
   "metadata": {},
   "outputs": [
    {
     "data": {
      "text/plain": [
       "(191, 263, 0.7262357414448669)"
      ]
     },
     "execution_count": 60,
     "metadata": {},
     "output_type": "execute_result"
    }
   ],
   "source": [
    "node_d, fibheap = init_heap_and_dict([(cycls_4,1), (cycls_3,-1)])\n",
    "results = peel_by_motif(node_d, fibheap, [(cycls_4,1), (cycls_3,-1)], 1, False)\n",
    "H = synG.subgraph(results[1])\n",
    "cut = dnx.maximum_cut(H, sampler)\n",
    "cutsize = nx.cut_size(H, cut)\n",
    "cutsize, len(H.edges), cutsize/len(H.edges)"
   ]
  },
  {
   "cell_type": "code",
   "execution_count": null,
   "metadata": {},
   "outputs": [],
   "source": []
  }
 ],
 "metadata": {
  "kernelspec": {
   "display_name": "gt",
   "language": "python",
   "name": "gt"
  },
  "language_info": {
   "codemirror_mode": {
    "name": "ipython",
    "version": 3
   },
   "file_extension": ".py",
   "mimetype": "text/x-python",
   "name": "python",
   "nbconvert_exporter": "python",
   "pygments_lexer": "ipython3",
   "version": "3.9.0"
  }
 },
 "nbformat": 4,
 "nbformat_minor": 4
}
